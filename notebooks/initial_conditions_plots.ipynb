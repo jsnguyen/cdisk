{
 "cells": [
  {
   "cell_type": "code",
   "execution_count": 301,
   "id": "a40dd6a7",
   "metadata": {},
   "outputs": [],
   "source": [
    "import sys\n",
    "sys.path.append('..')\n",
    "\n",
    "import os\n",
    "import pickle\n",
    "from glob import glob\n",
    "import argparse\n",
    "from multiprocessing import Pool\n",
    "\n",
    "import numpy as np\n",
    "\n",
    "from matplotlib import pyplot as plt\n",
    "import matplotlib.cm as cm\n",
    "import matplotlib.animation as animation\n",
    "from matplotlib import font_manager\n",
    "from matplotlib.colors import LogNorm\n",
    "import matplotlib.ticker as mtick\n",
    "\n",
    "from tqdm import tqdm\n",
    "\n",
    "from units import *\n",
    "from cdisk_analysis import *"
   ]
  },
  {
   "cell_type": "code",
   "execution_count": 302,
   "id": "784f2783",
   "metadata": {},
   "outputs": [],
   "source": [
    "def get_hill_radius(semi_major_axis, planet_mass, star_mass):\n",
    "    return semi_major_axis * np.power(planet_mass/(3*star_mass), 1/3)"
   ]
  },
  {
   "cell_type": "code",
   "execution_count": 303,
   "id": "5b2a46c5",
   "metadata": {},
   "outputs": [],
   "source": [
    "def get_aspect_ratio(r, mass_accretion, planet_mass, hill_radius):\n",
    "    mu = 2.4 # g/mol\n",
    "    a = (kb_cgs / (G_cgs*planet_mass*mu))  * 6.022e23\n",
    "    b = 3 * G_cgs * planet_mass * mass_accretion * r / (8*np.pi*stefan_cgs)\n",
    "    c = np.sqrt(hill_radius/r) - 1    \n",
    "    return np.sqrt(a) * np.sqrt(np.power(b*c,1/4))"
   ]
  },
  {
   "cell_type": "code",
   "execution_count": 304,
   "id": "bef51d11",
   "metadata": {},
   "outputs": [],
   "source": [
    "def get_surface_density(r, mass_accretion, hill_radius, viscosity):\n",
    "    return mass_accretion / (3*np.pi*viscosity) * (np.sqrt(hill_radius/r) - 1)"
   ]
  },
  {
   "cell_type": "code",
   "execution_count": 305,
   "id": "30ed3e3e",
   "metadata": {},
   "outputs": [],
   "source": [
    "def get_viscosity(r, alpha, scale_height, planet_mass):\n",
    "    omega = np.sqrt(G_cgs * planet_mass/np.power(r,3))\n",
    "    return alpha * omega * scale_height * scale_height"
   ]
  },
  {
   "cell_type": "code",
   "execution_count": 306,
   "id": "e97a4c6e",
   "metadata": {},
   "outputs": [],
   "source": [
    "mass_accretion = 1e-7 * mass_accretion_conversion\n",
    "planet_mass = 2 * MJ_to_g\n",
    "planet_semi_major_axis = 5.2 * AU_to_cm\n",
    "star_mass = 1047.57 * MJ_to_g\n",
    "r_t = 5*RJ_to_cm\n",
    "alpha = 1e-4\n",
    "\n",
    "hill_radius = get_hill_radius(planet_semi_major_axis, planet_mass, star_mass)\n",
    "\n",
    "r = np.linspace(r_t, hill_radius, 100)"
   ]
  },
  {
   "cell_type": "code",
   "execution_count": 307,
   "id": "f7818940",
   "metadata": {},
   "outputs": [
    {
     "name": "stderr",
     "output_type": "stream",
     "text": [
      "/tmp/ipykernel_26034/1459233990.py:2: RuntimeWarning: divide by zero encountered in true_divide\n",
      "  return mass_accretion / (3*np.pi*viscosity) * (np.sqrt(hill_radius/r) - 1)\n",
      "/tmp/ipykernel_26034/1459233990.py:2: RuntimeWarning: invalid value encountered in multiply\n",
      "  return mass_accretion / (3*np.pi*viscosity) * (np.sqrt(hill_radius/r) - 1)\n"
     ]
    }
   ],
   "source": [
    "viscosity = get_viscosity(r, alpha, r*aspect_ratio, planet_mass)\n",
    "sigma = get_surface_density(r, mass_accretion, hill_radius, viscosity)"
   ]
  },
  {
   "cell_type": "code",
   "execution_count": 308,
   "id": "97ec9a1f",
   "metadata": {},
   "outputs": [],
   "source": [
    "font_path =  '../IBMPlexMono-Regular.ttf'  # Your font path goes here\n",
    "font_manager.fontManager.addfont(font_path)\n",
    "prop = font_manager.FontProperties(fname=font_path)\n",
    "plt.rcParams['font.family'] = prop.get_name()\n",
    "plt.rcParams['savefig.facecolor'] = (1.0, 1.0, 1.0)\n",
    "plt.rcParams['axes.prop_cycle'] = plt.cycler(color=('#6699CC', '#004488', '#EECC66', '#994455', '#997700', '#EE99AA', '#000000'))"
   ]
  },
  {
   "cell_type": "code",
   "execution_count": 318,
   "id": "973fb05e",
   "metadata": {},
   "outputs": [
    {
     "data": {
      "image/png": "[encoded data removed]",
      "text/plain": [
       "<Figure size 360x216 with 1 Axes>"
      ]
     },
     "metadata": {
      "needs_background": "light"
     },
     "output_type": "display_data"
    }
   ],
   "source": [
    "fig,ax = plt.subplots(figsize=(5,3))\n",
    "\n",
    "ax.plot(r/hill_radius, sigma)\n",
    "ax.axvline(1/20, linestyle= '--', color='red', alpha=0.7)\n",
    "ax.axvline(1/3, linestyle= '--', color='green', alpha=0.7, ymin=0.48)\n",
    "\n",
    "ax.set_xscale('log')\n",
    "ax.set_yscale('log')\n",
    "ax.set_xlim(r_t/hill_radius,1)\n",
    "ax.set_ylim(1e1,1e6)\n",
    "\n",
    "ax.set_xlabel('Radius [$r_h$]')\n",
    "ax.set_ylabel('Surface Density [$g/cm^2$]')\n",
    "ax.xaxis.set_major_formatter(mtick.FormatStrFormatter('%.2f'))\n",
    "\n",
    "fig.show()\n"
   ]
  },
  {
   "cell_type": "code",
   "execution_count": 310,
   "id": "e0d405c9",
   "metadata": {},
   "outputs": [
    {
     "data": {
      "image/png": "[encoded data removed]",
      "text/plain": [
       "<Figure size 360x216 with 1 Axes>"
      ]
     },
     "metadata": {
      "needs_background": "light"
     },
     "output_type": "display_data"
    }
   ],
   "source": [
    "fig,ax = plt.subplots(figsize=(5,3))\n",
    "\n",
    "aspect_ratio = get_aspect_ratio(r, mass_accretion, planet_mass, hill_radius)\n",
    "ax.plot(r/hill_radius, aspect_ratio)\n",
    "\n",
    "ax.axvline(1/20, linestyle= '--', color='red', alpha=0.7)\n",
    "ax.axvline(1/3, linestyle= '--', color='green', alpha=0.7, ymin=0.73)\n",
    "\n",
    "\n",
    "ax.set_xscale('log')\n",
    "ax.set_xlim(r_t/hill_radius,1)\n",
    "ax.set_ylim(0.03,0.1)\n",
    "ax.set_xlabel('Radius [$r_h$]')\n",
    "ax.set_ylabel('Aspect Ratio')\n",
    "ax.xaxis.set_major_formatter(mtick.FormatStrFormatter('%.2f'))\n",
    "\n",
    "\n",
    "fig.show()"
   ]
  }
 ],
 "metadata": {
  "kernelspec": {
   "display_name": "Python 3 (ipykernel)",
   "language": "python",
   "name": "python3"
  },
  "language_info": {
   "codemirror_mode": {
    "name": "ipython",
    "version": 3
   },
   "file_extension": ".py",
   "mimetype": "text/x-python",
   "name": "python",
   "nbconvert_exporter": "python",
   "pygments_lexer": "ipython3",
   "version": "3.9.7"
  }
 },
 "nbformat": 4,
 "nbformat_minor": 5
}
