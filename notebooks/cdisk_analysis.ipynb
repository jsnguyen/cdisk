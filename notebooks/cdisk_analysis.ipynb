{
 "cells": [
  {
   "cell_type": "code",
   "execution_count": 308,
   "id": "7de0864e-4dd0-40b1-8095-c75cf18cdeca",
   "metadata": {},
   "outputs": [],
   "source": [
    "import sys\n",
    "sys.path.append('..')\n",
    "\n",
    "import os\n",
    "import pickle\n",
    "from glob import glob\n",
    "import argparse\n",
    "from multiprocessing import Pool\n",
    "\n",
    "import numpy as np\n",
    "\n",
    "from matplotlib import pyplot as plt\n",
    "import matplotlib.cm as cm\n",
    "import matplotlib.animation as animation\n",
    "from matplotlib import font_manager\n",
    "from matplotlib.colors import LogNorm\n",
    "import matplotlib.ticker as mtick\n",
    "\n",
    "from tqdm import tqdm\n",
    "\n",
    "from units import *\n",
    "from cdisk_analysis import *"
   ]
  },
  {
   "cell_type": "code",
   "execution_count": 428,
   "id": "ff45719d-b355-4e19-bfc6-fc7a1e18da8b",
   "metadata": {},
   "outputs": [
    {
     "name": "stdout",
     "output_type": "stream",
     "text": [
      "Plotting run folder -> /Users/jsn/landing/data/pds70c_nominal\n",
      "Loading in 43698 data frames...\n"
     ]
    },
    {
     "name": "stderr",
     "output_type": "stream",
     "text": [
      "  0%|                                                                                                                                                                                                                                               | 0/43698 [00:00<?, ?it/s]\n"
     ]
    },
    {
     "ename": "ValueError",
     "evalue": "cannot reshape array of size 8192 into shape (128,256)",
     "output_type": "error",
     "traceback": [
      "\u001b[0;31m---------------------------------------------------------------------------\u001b[0m",
      "\u001b[0;31mValueError\u001b[0m                                Traceback (most recent call last)",
      "Input \u001b[0;32mIn [428]\u001b[0m, in \u001b[0;36m<module>\u001b[0;34m\u001b[0m\n\u001b[1;32m     28\u001b[0m data_filename \u001b[38;5;241m=\u001b[39m \u001b[38;5;124m'\u001b[39m\u001b[38;5;124mgasdens\u001b[39m\u001b[38;5;132;01m{}\u001b[39;00m\u001b[38;5;124m.dat\u001b[39m\u001b[38;5;124m'\u001b[39m\u001b[38;5;241m.\u001b[39mformat(i)\n\u001b[1;32m     29\u001b[0m data_path \u001b[38;5;241m=\u001b[39m os\u001b[38;5;241m.\u001b[39mpath\u001b[38;5;241m.\u001b[39mjoin(run_folder, data_filename)\n\u001b[0;32m---> 30\u001b[0m phi, r, density \u001b[38;5;241m=\u001b[39m \u001b[43mread_fargo_data\u001b[49m\u001b[43m(\u001b[49m\u001b[43mdata_path\u001b[49m\u001b[43m,\u001b[49m\u001b[43m \u001b[49m\u001b[43mparameters\u001b[49m\u001b[43m)\u001b[49m\n\u001b[1;32m     32\u001b[0m \u001b[38;5;28;01mif\u001b[39;00m satellite \u001b[38;5;129;01mis\u001b[39;00m \u001b[38;5;129;01mnot\u001b[39;00m \u001b[38;5;28;01mNone\u001b[39;00m:\n\u001b[1;32m     33\u001b[0m     plot_params\u001b[38;5;241m.\u001b[39mappend((i, r, phi, density, parameters, (host_star[\u001b[38;5;124m'\u001b[39m\u001b[38;5;124mx\u001b[39m\u001b[38;5;124m'\u001b[39m][i], host_star[\u001b[38;5;124m'\u001b[39m\u001b[38;5;124my\u001b[39m\u001b[38;5;124m'\u001b[39m][i]), (satellite[\u001b[38;5;124m'\u001b[39m\u001b[38;5;124mx\u001b[39m\u001b[38;5;124m'\u001b[39m][i], satellite[\u001b[38;5;124m'\u001b[39m\u001b[38;5;124my\u001b[39m\u001b[38;5;124m'\u001b[39m][i])))\n",
      "File \u001b[0;32m~/landing/code/cdisk/notebooks/../cdisk_analysis.py:8\u001b[0m, in \u001b[0;36mread_fargo_data\u001b[0;34m(data_path, parameters)\u001b[0m\n\u001b[1;32m      5\u001b[0m phi \u001b[38;5;241m=\u001b[39m np\u001b[38;5;241m.\u001b[39mlinspace(parameters[\u001b[38;5;124m'\u001b[39m\u001b[38;5;124mXmin\u001b[39m\u001b[38;5;124m'\u001b[39m], parameters[\u001b[38;5;124m'\u001b[39m\u001b[38;5;124mXmax\u001b[39m\u001b[38;5;124m'\u001b[39m], parameters[\u001b[38;5;124m'\u001b[39m\u001b[38;5;124mNx\u001b[39m\u001b[38;5;124m'\u001b[39m]\u001b[38;5;241m+\u001b[39m\u001b[38;5;241m1\u001b[39m)\n\u001b[1;32m      6\u001b[0m r \u001b[38;5;241m=\u001b[39m np\u001b[38;5;241m.\u001b[39mgeomspace(parameters[\u001b[38;5;124m'\u001b[39m\u001b[38;5;124mYmin\u001b[39m\u001b[38;5;124m'\u001b[39m],parameters[\u001b[38;5;124m'\u001b[39m\u001b[38;5;124mYmax\u001b[39m\u001b[38;5;124m'\u001b[39m],parameters[\u001b[38;5;124m'\u001b[39m\u001b[38;5;124mNy\u001b[39m\u001b[38;5;124m'\u001b[39m]\u001b[38;5;241m+\u001b[39m\u001b[38;5;241m1\u001b[39m)\n\u001b[0;32m----> 8\u001b[0m density \u001b[38;5;241m=\u001b[39m \u001b[43mnp\u001b[49m\u001b[38;5;241;43m.\u001b[39;49m\u001b[43mfromfile\u001b[49m\u001b[43m(\u001b[49m\u001b[43mdata_path\u001b[49m\u001b[43m)\u001b[49m\u001b[38;5;241;43m.\u001b[39;49m\u001b[43mreshape\u001b[49m\u001b[43m(\u001b[49m\u001b[43mparameters\u001b[49m\u001b[43m[\u001b[49m\u001b[38;5;124;43m'\u001b[39;49m\u001b[38;5;124;43mNy\u001b[39;49m\u001b[38;5;124;43m'\u001b[39;49m\u001b[43m]\u001b[49m\u001b[43m,\u001b[49m\u001b[43m \u001b[49m\u001b[43mparameters\u001b[49m\u001b[43m[\u001b[49m\u001b[38;5;124;43m'\u001b[39;49m\u001b[38;5;124;43mNx\u001b[39;49m\u001b[38;5;124;43m'\u001b[39;49m\u001b[43m]\u001b[49m\u001b[43m)\u001b[49m\n\u001b[1;32m     10\u001b[0m \u001b[38;5;28;01mreturn\u001b[39;00m phi, r, density\n",
      "\u001b[0;31mValueError\u001b[0m: cannot reshape array of size 8192 into shape (128,256)"
     ]
    }
   ],
   "source": [
    "par_pickle_filename = '../cdi.par.pickle'\n",
    "with open(par_pickle_filename, 'rb') as f:\n",
    "    parameters = pickle.load(f)\n",
    "\n",
    "prepath = str(os.path.expanduser('~'))\n",
    "data_folder = prepath+'/landing/data'\n",
    "run_folder = os.path.join(data_folder,'pds70c_nominal')\n",
    "\n",
    "print('Plotting run folder -> {}'.format(run_folder))\n",
    "\n",
    "n_frames = len(glob(os.path.join(run_folder,'gasdens*.dat')))-1\n",
    "data_files = [os.path.join(run_folder, 'gasdens{}.dat') for i in range(n_frames)]\n",
    "\n",
    "host_star_data_path = os.path.join(run_folder,'planet0.dat')\n",
    "satellite_data_path = os.path.join(run_folder,'planet1.dat')\n",
    "orbit_data_path = os.path.join(run_folder,'orbit0.dat')\n",
    "\n",
    "host_star, host_star_orbit = read_planet_orbit_data(host_star_data_path, orbit_data_path)\n",
    "if os.path.exists(satellite_data_path):\n",
    "    satellite, satellite_orbit = read_planet_orbit_data(satellite_data_path, orbit_data_path)\n",
    "else:\n",
    "    satellite = None\n",
    "\n",
    "plot_params=[]\n",
    "print('Loading in {} data frames...'.format(n_frames))\n",
    "for i in tqdm(range(len(data_files))):\n",
    "\n",
    "    data_filename = 'gasdens{}.dat'.format(i)\n",
    "    data_path = os.path.join(run_folder, data_filename)\n",
    "    phi, r, density = read_fargo_data(data_path, parameters)\n",
    "\n",
    "    if satellite is not None:\n",
    "        plot_params.append((i, r, phi, density, parameters, (host_star['x'][i], host_star['y'][i]), (satellite['x'][i], satellite['y'][i])))\n",
    "    else:\n",
    "        plot_params.append((i, r, phi, density, parameters, (host_star['x'][i], host_star['y'][i]), None))"
   ]
  },
  {
   "cell_type": "code",
   "execution_count": 427,
   "id": "c5235328-9ae6-4459-b1e7-c1dc15f5b2d0",
   "metadata": {},
   "outputs": [
    {
     "ename": "TypeError",
     "evalue": "expected str, bytes or os.PathLike object, not ndarray",
     "output_type": "error",
     "traceback": [
      "\u001b[0;31m---------------------------------------------------------------------------\u001b[0m",
      "\u001b[0;31mTypeError\u001b[0m                                 Traceback (most recent call last)",
      "Input \u001b[0;32mIn [427]\u001b[0m, in \u001b[0;36m<module>\u001b[0;34m\u001b[0m\n\u001b[1;32m     14\u001b[0m mass_file \u001b[38;5;241m=\u001b[39m \u001b[38;5;124m'\u001b[39m\u001b[38;5;124mdisk_mass.npy\u001b[39m\u001b[38;5;124m'\u001b[39m\n\u001b[1;32m     15\u001b[0m \u001b[38;5;28;01mwith\u001b[39;00m \u001b[38;5;28mopen\u001b[39m(mass_file, \u001b[38;5;124m'\u001b[39m\u001b[38;5;124mwb\u001b[39m\u001b[38;5;124m'\u001b[39m) \u001b[38;5;28;01mas\u001b[39;00m f:\n\u001b[0;32m---> 16\u001b[0m     \u001b[43mnp\u001b[49m\u001b[38;5;241;43m.\u001b[39;49m\u001b[43msave\u001b[49m\u001b[43m(\u001b[49m\u001b[43mdisk_mass\u001b[49m\u001b[43m,\u001b[49m\u001b[43m \u001b[49m\u001b[43mmass_file\u001b[49m\u001b[43m)\u001b[49m\n\u001b[1;32m     18\u001b[0m dt \u001b[38;5;241m=\u001b[39m parameters[\u001b[38;5;124m'\u001b[39m\u001b[38;5;124mDT\u001b[39m\u001b[38;5;124m'\u001b[39m]\n\u001b[1;32m     19\u001b[0m times \u001b[38;5;241m=\u001b[39m dt \u001b[38;5;241m*\u001b[39m np\u001b[38;5;241m.\u001b[39marange(\u001b[38;5;241m0\u001b[39m, \u001b[38;5;28mlen\u001b[39m(data_files), \u001b[38;5;241m1\u001b[39m)\n",
      "File \u001b[0;32m<__array_function__ internals>:180\u001b[0m, in \u001b[0;36msave\u001b[0;34m(*args, **kwargs)\u001b[0m\n",
      "File \u001b[0;32m/usr/local/lib/python3.9/site-packages/numpy/lib/npyio.py:512\u001b[0m, in \u001b[0;36msave\u001b[0;34m(file, arr, allow_pickle, fix_imports)\u001b[0m\n\u001b[1;32m    510\u001b[0m     file_ctx \u001b[38;5;241m=\u001b[39m contextlib\u001b[38;5;241m.\u001b[39mnullcontext(file)\n\u001b[1;32m    511\u001b[0m \u001b[38;5;28;01melse\u001b[39;00m:\n\u001b[0;32m--> 512\u001b[0m     file \u001b[38;5;241m=\u001b[39m \u001b[43mos_fspath\u001b[49m\u001b[43m(\u001b[49m\u001b[43mfile\u001b[49m\u001b[43m)\u001b[49m\n\u001b[1;32m    513\u001b[0m     \u001b[38;5;28;01mif\u001b[39;00m \u001b[38;5;129;01mnot\u001b[39;00m file\u001b[38;5;241m.\u001b[39mendswith(\u001b[38;5;124m'\u001b[39m\u001b[38;5;124m.npy\u001b[39m\u001b[38;5;124m'\u001b[39m):\n\u001b[1;32m    514\u001b[0m         file \u001b[38;5;241m=\u001b[39m file \u001b[38;5;241m+\u001b[39m \u001b[38;5;124m'\u001b[39m\u001b[38;5;124m.npy\u001b[39m\u001b[38;5;124m'\u001b[39m\n",
      "\u001b[0;31mTypeError\u001b[0m: expected str, bytes or os.PathLike object, not ndarray"
     ]
    }
   ],
   "source": [
    "disk_mass = np.zeros(len(plot_params))\n",
    "for i,params in enumerate(plot_params):\n",
    "    r = params[1]\n",
    "    phi = params[2]\n",
    "    density = params[3]\n",
    "\n",
    "    diff = r[1:] - r[:-1]\n",
    "    dx = (2*np.pi/parameters['Nx'])*diff\n",
    "    mass = np.sum(density.T * diff*dx)\n",
    "    disk_mass[i] = mass\n",
    "\n",
    "disk_mass = np.array(disk_mass)\n",
    "\n",
    "mass_file = 'disk_mass.npy'\n",
    "with open(mass_file, 'wb') as f:\n",
    "    np.save(mass_file, disk_mass)\n",
    "\n",
    "dt = parameters['DT']\n",
    "times = dt * np.arange(0, len(data_files), 1)\n",
    "\n",
    "scaled_times = times * sec_to_yr\n",
    "scaled_disk_mass = disk_mass * g_to_MJ"
   ]
  },
  {
   "cell_type": "code",
   "execution_count": 400,
   "id": "7f070bf5-1f6a-4cca-8682-67af05c9e669",
   "metadata": {},
   "outputs": [],
   "source": [
    "plt.rcParams['axes.prop_cycle'] = plt.cycler(color=('#6699CC', '#004488', '#EECC66', '#994455', '#997700', '#EE99AA', '#000000'))"
   ]
  },
  {
   "cell_type": "code",
   "execution_count": 426,
   "id": "c0a278de-e739-41c5-9210-8007d610e463",
   "metadata": {},
   "outputs": [
    {
     "name": "stderr",
     "output_type": "stream",
     "text": [
      "/var/folders/6y/p7j56dj17hj87w_r01qjgv480000gn/T/ipykernel_2662/2910475489.py:19: UserWarning: Matplotlib is currently using module://matplotlib_inline.backend_inline, which is a non-GUI backend, so cannot show the figure.\n",
      "  fig.show()\n"
     ]
    },
    {
     "data": {
      "image/png": "[encoded data removed]",
      "text/plain": [
       "<Figure size 288x288 with 1 Axes>"
      ]
     },
     "metadata": {
      "needs_background": "light"
     },
     "output_type": "display_data"
    }
   ],
   "source": [
    "font_path =  '../IBMPlexMono-Regular.ttf'  # Your font path goes here\n",
    "font_manager.fontManager.addfont(font_path)\n",
    "prop = font_manager.FontProperties(fname=font_path)\n",
    "plt.rcParams['font.family'] = prop.get_name()\n",
    "\n",
    "fig,ax = plt.subplots(figsize=(4,4))\n",
    "ax.plot(scaled_times, scaled_disk_mass, label='PDS 70c')\n",
    "\n",
    "ax.set_xlim(0,1e5)\n",
    "ax.set_xticks(np.linspace(0,1e5,5))\n",
    "ax.set_yticks(np.linspace(0.00250,0.0050,6))\n",
    "\n",
    "ax.set_xlabel('Time [$yr$]', fontsize=12)\n",
    "ax.set_ylabel('Mass [$M_J$]', fontsize=12)\n",
    "\n",
    "ax.yaxis.set_major_formatter(mtick.FormatStrFormatter('%.1e'))\n",
    "ax.grid(linestyle=':')\n",
    "\n",
    "fig.show()\n",
    "fig.savefig('../plots/disk_mass.jpg', bbox_inches='tight')"
   ]
  },
  {
   "cell_type": "code",
   "execution_count": null,
   "id": "fa4fe19d-d03a-4027-ac9e-950222eb945f",
   "metadata": {},
   "outputs": [],
   "source": []
  }
 ],
 "metadata": {
  "kernelspec": {
   "display_name": "Python 3 (ipykernel)",
   "language": "python",
   "name": "python3"
  },
  "language_info": {
   "codemirror_mode": {
    "name": "ipython",
    "version": 3
   },
   "file_extension": ".py",
   "mimetype": "text/x-python",
   "name": "python",
   "nbconvert_exporter": "python",
   "pygments_lexer": "ipython3",
   "version": "3.9.10"
  }
 },
 "nbformat": 4,
 "nbformat_minor": 5
}
