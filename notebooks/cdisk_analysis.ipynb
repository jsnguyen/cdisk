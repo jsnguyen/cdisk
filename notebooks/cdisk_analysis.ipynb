{
 "cells": [
  {
   "cell_type": "code",
   "execution_count": 308,
   "id": "7de0864e-4dd0-40b1-8095-c75cf18cdeca",
   "metadata": {},
   "outputs": [],
   "source": [
    "import sys\n",
    "sys.path.append('..')\n",
    "\n",
    "import os\n",
    "import pickle\n",
    "from glob import glob\n",
    "import argparse\n",
    "from multiprocessing import Pool\n",
    "\n",
    "import numpy as np\n",
    "\n",
    "from matplotlib import pyplot as plt\n",
    "import matplotlib.cm as cm\n",
    "import matplotlib.animation as animation\n",
    "from matplotlib import font_manager\n",
    "from matplotlib.colors import LogNorm\n",
    "import matplotlib.ticker as mtick\n",
    "\n",
    "from tqdm import tqdm\n",
    "\n",
    "from units import *\n",
    "from cdisk_analysis import *"
   ]
  },
  {
   "cell_type": "code",
   "execution_count": 309,
   "id": "ff45719d-b355-4e19-bfc6-fc7a1e18da8b",
   "metadata": {},
   "outputs": [
    {
     "name": "stdout",
     "output_type": "stream",
     "text": [
      "Plotting run folder -> /Users/jsn/landing/data/pds70c\n",
      "Loading in 26669 data frames...\n"
     ]
    },
    {
     "name": "stderr",
     "output_type": "stream",
     "text": [
      "100%|█████████████████████████████████████████████████████████████████████████████████████████████████████████████████████████████████████████████████████████████████████████████████████████████████████████████████████████████████| 26669/26669 [00:13<00:00, 1924.75it/s]\n"
     ]
    }
   ],
   "source": [
    "par_pickle_filename = '../cdi.par.pickle'\n",
    "with open(par_pickle_filename, 'rb') as f:\n",
    "    parameters = pickle.load(f)\n",
    "\n",
    "prepath = str(os.path.expanduser('~'))\n",
    "data_folder = prepath+'/landing/data'\n",
    "run_folder = os.path.join(data_folder,'pds70c')\n",
    "\n",
    "print('Plotting run folder -> {}'.format(run_folder))\n",
    "\n",
    "n_frames = len(glob(os.path.join(run_folder,'gasdens*.dat')))-1\n",
    "data_files = [os.path.join(run_folder, 'gasdens{}.dat') for i in range(n_frames)]\n",
    "\n",
    "host_star_data_path = os.path.join(run_folder,'planet0.dat')\n",
    "satellite_data_path = os.path.join(run_folder,'planet1.dat')\n",
    "orbit_data_path = os.path.join(run_folder,'orbit0.dat')\n",
    "\n",
    "host_star, host_star_orbit = read_planet_orbit_data(host_star_data_path, orbit_data_path)\n",
    "if os.path.exists(satellite_data_path):\n",
    "    satellite, satellite_orbit = read_planet_orbit_data(satellite_data_path, orbit_data_path)\n",
    "else:\n",
    "    satellite = None\n",
    "\n",
    "plot_params=[]\n",
    "print('Loading in {} data frames...'.format(n_frames))\n",
    "for i in tqdm(range(len(data_files))):\n",
    "\n",
    "    data_filename = 'gasdens{}.dat'.format(i)\n",
    "    data_path = os.path.join(run_folder, data_filename)\n",
    "    phi, r, density = read_fargo_data(data_path, parameters)\n",
    "\n",
    "    if satellite is not None:\n",
    "        plot_params.append((i, r, phi, density, parameters, (host_star['x'][i], host_star['y'][i]), (satellite['x'][i], satellite['y'][i])))\n",
    "    else:\n",
    "        plot_params.append((i, r, phi, density, parameters, (host_star['x'][i], host_star['y'][i]), None))"
   ]
  },
  {
   "cell_type": "code",
   "execution_count": 346,
   "id": "c5235328-9ae6-4459-b1e7-c1dc15f5b2d0",
   "metadata": {},
   "outputs": [],
   "source": [
    "disk_mass = np.zeros(len(plot_params))\n",
    "for i,params in enumerate(plot_params):\n",
    "    r = params[1]\n",
    "    phi = params[2]\n",
    "    density = params[3]\n",
    "\n",
    "    diff = r[1:] - r[:-1]\n",
    "    dx = (2*np.pi/parameters['Nx'])*diff\n",
    "    mass = np.sum(density.T * diff*dx)\n",
    "    disk_mass[i] = mass\n",
    "\n",
    "disk_mass = np.array(disk_mass)\n",
    "\n",
    "dt = parameters['DT']\n",
    "times = dt * np.arange(0, len(data_files), 1)\n",
    "\n",
    "scaled_times = times * sec_to_yr\n",
    "scaled_disk_mass = disk_mass * g_to_MJ"
   ]
  },
  {
   "cell_type": "code",
   "execution_count": 354,
   "id": "7f070bf5-1f6a-4cca-8682-67af05c9e669",
   "metadata": {},
   "outputs": [],
   "source": [
    "plt.rcParams['axes.prop_cycle'] = plt.cycler(color=('#6699CC', '#004488', '#EECC66', '#994455', '#997700', '#EE99AA', '#000000'))"
   ]
  },
  {
   "cell_type": "code",
   "execution_count": 382,
   "id": "c0a278de-e739-41c5-9210-8007d610e463",
   "metadata": {},
   "outputs": [
    {
     "name": "stderr",
     "output_type": "stream",
     "text": [
      "/var/folders/6y/p7j56dj17hj87w_r01qjgv480000gn/T/ipykernel_2662/879205587.py:20: UserWarning: Matplotlib is currently using module://matplotlib_inline.backend_inline, which is a non-GUI backend, so cannot show the figure.\n",
      "  fig.show()\n"
     ]
    },
    {
     "data": {
      "image/png": "[encoded data removed]",
      "text/plain": [
       "<Figure size 288x288 with 1 Axes>"
      ]
     },
     "metadata": {
      "needs_background": "light"
     },
     "output_type": "display_data"
    }
   ],
   "source": [
    "font_path =  '../IBMPlexMono-Regular.ttf'  # Your font path goes here\n",
    "font_manager.fontManager.addfont(font_path)\n",
    "prop = font_manager.FontProperties(fname=font_path)\n",
    "plt.rcParams['font.family'] = prop.get_name()\n",
    "\n",
    "fig,ax = plt.subplots(figsize=(4,4))\n",
    "ax.plot(scaled_times, scaled_disk_mass, label='PDS 70c')\n",
    "\n",
    "ax.set_xlim(0,np.max(scaled_times))\n",
    "\n",
    "ax.set_xticks(np.linspace(0,50000,6))\n",
    "ax.set_yticks(np.linspace(0.00250,0.0050,6))\n",
    "\n",
    "ax.set_xlabel('Time [$yr$]', fontsize=12)\n",
    "ax.set_ylabel('Mass [$M_J$]', fontsize=12)\n",
    "\n",
    "ax.yaxis.set_major_formatter(mtick.FormatStrFormatter('%.1e'))\n",
    "ax.grid(linestyle=':')\n",
    "\n",
    "fig.show()\n",
    "fig.savefig('../plots/disk_mass.jpg', bbox_inches='tight')"
   ]
  },
  {
   "cell_type": "code",
   "execution_count": null,
   "id": "03d3a773-75f1-481f-8c28-d27d6804488a",
   "metadata": {},
   "outputs": [],
   "source": []
  }
 ],
 "metadata": {
  "kernelspec": {
   "display_name": "Python 3 (ipykernel)",
   "language": "python",
   "name": "python3"
  },
  "language_info": {
   "codemirror_mode": {
    "name": "ipython",
    "version": 3
   },
   "file_extension": ".py",
   "mimetype": "text/x-python",
   "name": "python",
   "nbconvert_exporter": "python",
   "pygments_lexer": "ipython3",
   "version": "3.9.10"
  }
 },
 "nbformat": 4,
 "nbformat_minor": 5
}
